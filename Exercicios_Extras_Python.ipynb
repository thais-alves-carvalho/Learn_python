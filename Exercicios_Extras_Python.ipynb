{
  "nbformat": 4,
  "nbformat_minor": 0,
  "metadata": {
    "colab": {
      "provenance": [],
      "include_colab_link": true
    },
    "kernelspec": {
      "name": "python3",
      "display_name": "Python 3"
    },
    "language_info": {
      "name": "python"
    }
  },
  "cells": [
    {
      "cell_type": "markdown",
      "metadata": {
        "id": "view-in-github",
        "colab_type": "text"
      },
      "source": [
        "<a href=\"https://colab.research.google.com/github/thais-alves-carvalho/Python-basics/blob/master/Exercicios_Extras_Python.ipynb\" target=\"_parent\"><img src=\"https://colab.research.google.com/assets/colab-badge.svg\" alt=\"Open In Colab\"/></a>"
      ]
    },
    {
      "cell_type": "markdown",
      "source": [
        "<img src=\"https://github.com/amandalemette/images/blob/e011da7260c032bae5c49e56a14ad97c13b8c679/BiMaster/bimaster.png?raw=true\"  width=1000 height=80 />"
      ],
      "metadata": {
        "id": "RtT51jsP3gUP"
      }
    },
    {
      "cell_type": "markdown",
      "source": [
        "# Professora\n",
        "\n",
        " - Amanda Lemette \n",
        "\t - prof.amanda@ica.ele.puc-rio.br\n",
        "\t - [Linkedin](https://www.linkedin.com/in/amanda-lemette-brand%C3%A3o-83280918b)\n",
        "  - [Youtube](https://www.youtube.com/c/AmandaLemette/featured)"
      ],
      "metadata": {
        "id": "0O447dUW3n-e"
      }
    },
    {
      "cell_type": "markdown",
      "source": [
        "<img src=\"https://github.com/amandalemette/images/blob/e011da7260c032bae5c49e56a14ad97c13b8c679/BiMaster/bimaster.png?raw=true\"  width=1000 height=80 />"
      ],
      "metadata": {
        "id": "7uH9Eg9T3sWh"
      }
    },
    {
      "cell_type": "markdown",
      "source": [
        "# Adição de nova linha no DataFrame"
      ],
      "metadata": {
        "id": "MzpX9Tf-3fgf"
      }
    },
    {
      "cell_type": "markdown",
      "source": [
        "Na nossa aula, vimos como se faz a adição de nova linha no DataFrame utilizando o comando .loc(). Nas imagens a seguir, podemos ver outras duas estratégias possíveis para fazer a mesma ação. "
      ],
      "metadata": {
        "id": "Hlw1i9RZ3zUu"
      }
    },
    {
      "cell_type": "markdown",
      "source": [
        "<center><img src=\"https://github.com/amandalemette/images/blob/e3e8a843c47fa1f22348750998901d992edbed3d/BiMaster/dic_append.png?raw=true\"  width=700 height=400 />"
      ],
      "metadata": {
        "id": "2st6GCAh3cwQ"
      }
    },
    {
      "cell_type": "markdown",
      "source": [
        "<center><img src=\"https://github.com/amandalemette/images/blob/e97b5dc2b6638a85e6c6da4847de17499266f4e4/BiMaster/DF_append.png?raw=true\"  width=800 height=400 />"
      ],
      "metadata": {
        "id": "Oi2oX81E9gKn"
      }
    },
    {
      "cell_type": "markdown",
      "source": [
        "O *ignore_index=True* irá ignorar o index do novo dataframe e atribuir-lhes um novo índice no dataframe original."
      ],
      "metadata": {
        "id": "os6AzzGf90Kx"
      }
    },
    {
      "cell_type": "markdown",
      "source": [
        "A abordagem que vimos em aula foi utilizando o *loc[index]* como mostrado a seguir:"
      ],
      "metadata": {
        "id": "sWNXgLnTDbmv"
      }
    },
    {
      "cell_type": "markdown",
      "source": [
        "O loc[index] toma a nova lista como uma nova linha e a adiciona ao dado index de pandas.Dataframe. Ele funciona como:\n",
        "\n",
        "\n",
        "\n",
        "```\n",
        "Nome_Dataframe.loc[nome_index] = [novos dados como lista]\n",
        "```\n"
      ],
      "metadata": {
        "id": "-CeUUqUtDat7"
      }
    },
    {
      "cell_type": "markdown",
      "source": [
        "# Atividade 1"
      ],
      "metadata": {
        "id": "s4j-L_3ZA4uq"
      }
    },
    {
      "cell_type": "markdown",
      "source": [
        "Dado o DataFrame a seguir, escolha uma das abordagens mostradas acima (via dicionário ou via outro dataframe) para resolver os próximos itens."
      ],
      "metadata": {
        "id": "MJQFLKTt-Bqo"
      }
    },
    {
      "cell_type": "code",
      "source": [
        "import pandas as pd"
      ],
      "metadata": {
        "id": "xDhDZVd77HrV"
      },
      "execution_count": null,
      "outputs": []
    },
    {
      "cell_type": "code",
      "source": [
        "df = pd.DataFrame({'Nome':['Robby','Pipoca','Milho','Zulu','Arroz'],'Idade':[5,1,1,3,8],'Animal':['cachorro','papagaio','gato','cachorro','jabuti']})"
      ],
      "metadata": {
        "id": "8I63BION-TAR"
      },
      "execution_count": null,
      "outputs": []
    },
    {
      "cell_type": "code",
      "source": [
        "df"
      ],
      "metadata": {
        "id": "U0EFurcD-rI1"
      },
      "execution_count": null,
      "outputs": []
    },
    {
      "cell_type": "markdown",
      "source": [
        "- Acrescente a seguinte informação ao dataframe df:\n",
        "\n",
        "\n",
        "\n",
        "```\n",
        "[Azevedo,4,gato]\n",
        "[Omar, 10, cachorro]\n",
        "```\n",
        "\n"
      ],
      "metadata": {
        "id": "At5TTppC-tQ3"
      }
    },
    {
      "cell_type": "code",
      "source": [],
      "metadata": {
        "id": "3yiUAEyuMtny"
      },
      "execution_count": null,
      "outputs": []
    },
    {
      "cell_type": "markdown",
      "source": [
        "- Acrescente uma nova linha em df utilizando o LOC:\n",
        "\n",
        "\n",
        "\n",
        "```\n",
        "[Pituca, 12, cachorro]\n",
        "```\n",
        "\n"
      ],
      "metadata": {
        "id": "TiWMQdD0Aeb3"
      }
    },
    {
      "cell_type": "code",
      "source": [],
      "metadata": {
        "id": "BQZBYaArTtpe"
      },
      "execution_count": null,
      "outputs": []
    },
    {
      "cell_type": "markdown",
      "source": [
        "# Atividade 2"
      ],
      "metadata": {
        "id": "ZimTMlWzCDW-"
      }
    },
    {
      "cell_type": "markdown",
      "source": [
        "Dado o dataframe df (mesmo do exercicio anterior), responda os itens a seguir."
      ],
      "metadata": {
        "id": "MCTsOKZy_Y9E"
      }
    },
    {
      "cell_type": "code",
      "source": [
        "df"
      ],
      "metadata": {
        "id": "I8hUfNTp_fcR"
      },
      "execution_count": null,
      "outputs": []
    },
    {
      "cell_type": "markdown",
      "source": [
        "- Imprima a palavra papagaio de df."
      ],
      "metadata": {
        "id": "G0_cs0RJ_eHG"
      }
    },
    {
      "cell_type": "code",
      "source": [],
      "metadata": {
        "id": "lSdvmkjfMwEG"
      },
      "execution_count": null,
      "outputs": []
    },
    {
      "cell_type": "markdown",
      "source": [
        "- Imprima a linha com índice 1 de df."
      ],
      "metadata": {
        "id": "ZcTPAUzn_lrZ"
      }
    },
    {
      "cell_type": "code",
      "source": [],
      "metadata": {
        "id": "QHdFDuqXMwwu"
      },
      "execution_count": null,
      "outputs": []
    },
    {
      "cell_type": "markdown",
      "source": [
        "- Ordene em ordem crescente por idade o dataframe df."
      ],
      "metadata": {
        "id": "KWEQBjPg_x_-"
      }
    },
    {
      "cell_type": "code",
      "source": [],
      "metadata": {
        "id": "GADKBZoJMxnm"
      },
      "execution_count": null,
      "outputs": []
    },
    {
      "cell_type": "markdown",
      "source": [
        "- Atualize os índices de df após a ordenação eliminando os índices antigos. "
      ],
      "metadata": {
        "id": "jsbh0xfx_8Wp"
      }
    },
    {
      "cell_type": "code",
      "source": [],
      "metadata": {
        "id": "jOM05B4mMyag"
      },
      "execution_count": null,
      "outputs": []
    },
    {
      "cell_type": "markdown",
      "source": [
        "- Troque a coluna de índices de df por:\n",
        "\n",
        "\n",
        "\n",
        "```\n",
        "[linha 0, linha 1, linha 2, ...]\n",
        "```\n",
        "\n"
      ],
      "metadata": {
        "id": "S75pNKH5_pwO"
      }
    },
    {
      "cell_type": "code",
      "source": [],
      "metadata": {
        "id": "9gCTJHEYMz5I"
      },
      "execution_count": null,
      "outputs": []
    },
    {
      "cell_type": "markdown",
      "source": [
        "- Utilizando loc, imprima a palavra jabuti de df."
      ],
      "metadata": {
        "id": "uKVl0S1kADpj"
      }
    },
    {
      "cell_type": "code",
      "source": [],
      "metadata": {
        "id": "XEyLyJUrM0qT"
      },
      "execution_count": null,
      "outputs": []
    },
    {
      "cell_type": "markdown",
      "source": [
        "- Acrescente a coluna Vacinação em dia em df. Forneça as respostas para cada animal conforme sua escolha, as respostas devem ser:\n",
        "\n",
        "\n",
        "\n",
        "1.   SIM\n",
        "2.   NAO\n",
        "\n"
      ],
      "metadata": {
        "id": "9SIhZeW0AK9Z"
      }
    },
    {
      "cell_type": "code",
      "source": [],
      "metadata": {
        "id": "co4UXgblM3Mx"
      },
      "execution_count": null,
      "outputs": []
    },
    {
      "cell_type": "markdown",
      "source": [
        "- Ordene as colunas de df na seguinte ordem:\n",
        "\n",
        "\n",
        "\n",
        "```\n",
        "Nome - Vacinação em dia - Animal - Idade\n",
        "```\n",
        "\n"
      ],
      "metadata": {
        "id": "b0AMDlm5ApzP"
      }
    },
    {
      "cell_type": "code",
      "source": [],
      "metadata": {
        "id": "94xOUXduM4Ve"
      },
      "execution_count": null,
      "outputs": []
    },
    {
      "cell_type": "markdown",
      "source": [
        "# Atividade 3"
      ],
      "metadata": {
        "id": "qqtbhrRJCSvy"
      }
    },
    {
      "cell_type": "markdown",
      "source": [
        "Uma clínica de dermatologia está iniciando o cadastro de clientes. Nesse cadastro, as seguintes informações são salvas:\n",
        "\n",
        "- Nome completo\n",
        "- Idade\n",
        "- Celular\n",
        "- CPF\n",
        "\n",
        "Desenvolva um programa que interaja com o usuário de modo a guardar essas informações automaticamente. "
      ],
      "metadata": {
        "id": "7zG8Miu0DAgZ"
      }
    },
    {
      "cell_type": "code",
      "source": [],
      "metadata": {
        "id": "rgiBOCyxM7nj"
      },
      "execution_count": null,
      "outputs": []
    },
    {
      "cell_type": "markdown",
      "source": [
        "# Atividade 4"
      ],
      "metadata": {
        "id": "U_l6Kt6nm92P"
      }
    },
    {
      "cell_type": "markdown",
      "source": [
        "Considere a lista a seguir:\n",
        "\n",
        "\n",
        "\n",
        "```\n",
        "lista = [3,18,25,30,14,10,4]\n",
        "```\n",
        "\n",
        "Gere um dataframe com 7 colunas e 5 linhas de números inteiros aleatórios de 3 até 30 (incluindo o 30). Chame esse dataframe de df. \n",
        "\n",
        "Crie uma nova coluna em df de modo que ela contenha quantos números da correspondente linha pertencem à lista. Se não tiver nenhum número igual, considere 0. Chame essa nova coluna de ocorrencias. \n"
      ],
      "metadata": {
        "id": "FVE0i7G5nHkw"
      }
    },
    {
      "cell_type": "code",
      "source": [],
      "metadata": {
        "id": "gXsSMpIqM-1k"
      },
      "execution_count": null,
      "outputs": []
    },
    {
      "cell_type": "markdown",
      "source": [
        "# Atividade 5"
      ],
      "metadata": {
        "id": "4W6VbXAEC9os"
      }
    },
    {
      "cell_type": "markdown",
      "source": [
        "Faça o download da base de dados: \n",
        "\n",
        "- [ckdisease.csv](https://bit.ly/3Guen8J)\n",
        "\n",
        "e identifique se essa base contém dados faltantes. \n",
        "\n",
        "Em caso afirmativo:\n",
        "\n",
        "a. Substitua NaN nas colunas categóricas (identificadas como object) pela moda da coluna. \n",
        "\n",
        "b. Substitua NaN nas colunas numéricas pela média da coluna. \n",
        "\n",
        "Use o seguinte código para selecionar as colunas categóricas e numéricas:\n",
        "\n",
        "\n",
        "\n",
        "```\n",
        "cat_cols = [col for col in DataFrame.columns if DataFrame[col].dtype == 'object']\n",
        "num_cols = [col for col in DataFrame.columns if DataFrame[col].dtype != 'object']\n",
        "```\n",
        "\n",
        "c. Construa um gráfico de pizza que mostre o groupo de pessoas com a doença crônica no rim e as que não estão com a doença. Essa classificação se dá pela coluna *class*:\n",
        "- 0 = 'ckd' --> com doença de rim crônica (chronic kidney disease)\n",
        "- 1 = 'not ckd' --> sem doença de rim crônica \n",
        "\n",
        "d. Transforme o gráfico do item anterior em um gráfico de barras. \n",
        "\n",
        "e. Verifique graficamente se a pressão sanguínea tem correlação com a idade. "
      ],
      "metadata": {
        "id": "X8wkILPJJAnK"
      }
    },
    {
      "cell_type": "code",
      "source": [
        "bd = pd.read_csv('/content/ckdisease.csv')"
      ],
      "metadata": {
        "id": "-QMGskVeJOSR"
      },
      "execution_count": null,
      "outputs": []
    },
    {
      "cell_type": "code",
      "source": [],
      "metadata": {
        "id": "WJfuAxHTNC_k"
      },
      "execution_count": null,
      "outputs": []
    }
  ]
}